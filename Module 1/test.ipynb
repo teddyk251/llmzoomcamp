{
 "cells": [
  {
   "cell_type": "code",
   "execution_count": 2,
   "metadata": {},
   "outputs": [],
   "source": [
    "import openai\n",
    "import os\n",
    "from dotenv import load_dotenv"
   ]
  },
  {
   "cell_type": "code",
   "execution_count": 6,
   "metadata": {},
   "outputs": [],
   "source": [
    "from openai import OpenAI"
   ]
  },
  {
   "cell_type": "code",
   "execution_count": 3,
   "metadata": {},
   "outputs": [
    {
     "data": {
      "text/plain": [
       "True"
      ]
     },
     "execution_count": 3,
     "metadata": {},
     "output_type": "execute_result"
    }
   ],
   "source": [
    "load_dotenv()"
   ]
  },
  {
   "cell_type": "code",
   "execution_count": 7,
   "metadata": {},
   "outputs": [],
   "source": [
    "client = OpenAI()"
   ]
  },
  {
   "cell_type": "code",
   "execution_count": 9,
   "metadata": {},
   "outputs": [],
   "source": [
    "response = client.chat.completions.create(\n",
    "    model='gpt-4o',\n",
    "    messages=[\n",
    "        {\"role\": \"user\",\n",
    "         \"content\": \"Is it too late to join the course?\"\n",
    "        }\n",
    "    ]\n",
    ")"
   ]
  },
  {
   "cell_type": "code",
   "execution_count": 15,
   "metadata": {},
   "outputs": [
    {
     "data": {
      "text/plain": [
       "ChatCompletionMessage(content=\"The timing for joining a course can depend on several factors, including the specific policies of the educational institution or platform offering the course, the structure and schedule of the course itself, and how much of the course content you may have missed. Here are some steps you can take to determine whether it's too late:\\n\\n1. **Check Deadlines:** Look up any registration or enrollment deadlines for the course. If the deadlines have already passed, you may need to contact the course administrator or institution to discuss your options.\\n\\n2. **Contact the Instructor:** Reach out to the course instructor or coordinator to inquire about the possibility of joining late. Sometimes exceptions can be made, especially if you have a compelling reason.\\n\\n3. **Assess Curriculum and Schedule:** Review the course syllabus and schedule to see how much content you have missed. Some courses might be more flexible, allowing you to catch up on missed work, while others might be more rigid.\\n\\n4. **Catch-Up Plan:** Consider whether you have the time and resources available to catch up on any missed material. Some courses offer recorded lectures, additional readings, or other resources to help latecomers get up to speed.\\n\\n5. **Alternative Options:** If it's too late to join the current session, ask if there will be future sessions of the course or if there are similar courses you can take instead.\\n\\nTaking these steps should provide you with clear information on whether it's too late to join the course and what your next steps should be if it is.\", role='assistant', function_call=None, tool_calls=None)"
      ]
     },
     "execution_count": 15,
     "metadata": {},
     "output_type": "execute_result"
    }
   ],
   "source": [
    "response.choices[0].message"
   ]
  },
  {
   "cell_type": "code",
   "execution_count": null,
   "metadata": {},
   "outputs": [],
   "source": []
  }
 ],
 "metadata": {
  "kernelspec": {
   "display_name": "llmzoomcamp",
   "language": "python",
   "name": "python3"
  },
  "language_info": {
   "codemirror_mode": {
    "name": "ipython",
    "version": 3
   },
   "file_extension": ".py",
   "mimetype": "text/x-python",
   "name": "python",
   "nbconvert_exporter": "python",
   "pygments_lexer": "ipython3",
   "version": "3.11.9"
  }
 },
 "nbformat": 4,
 "nbformat_minor": 2
}
